{
 "cells": [
  {
   "cell_type": "markdown",
   "id": "db0cd5b7-683d-4c0a-bfe1-151dd0907ea6",
   "metadata": {},
   "source": [
    "# Case study questions"
   ]
  },
  {
   "cell_type": "markdown",
   "id": "f8b4d144-0a07-40c7-9e32-37ddd167ec9e",
   "metadata": {},
   "source": [
    "## Tips"
   ]
  },
  {
   "cell_type": "markdown",
   "id": "1840045d-266b-4c46-9a28-e785a35da1cd",
   "metadata": {},
   "source": [
    "***1. Clarify***\n",
    "* Clarify the business and product goals\n",
    "\n",
    "***2. Be coachable***\n",
    "* Be open to suggestions from the interviewer - they may want to steer the conversation in a particular direction\n",
    "\n",
    "***3. Remain pragmatic***\n",
    "* Stick to reasonable solutions. It doesn't need to be revolutionary.\n",
    "\n",
    "***4. Highlight trade-offs***\n",
    "* Mention trade-offs and limitations\n",
    "* Compare to alternative approaches\n",
    "\n",
    "***5. Be concise***\n",
    "* Try and provide as much signal as possible...\n",
    "* If you're uncertain about how much detail you should provide, ask!"
   ]
  },
  {
   "cell_type": "markdown",
   "id": "e07f58df-dc8c-4ba0-9622-b5fbb04d8288",
   "metadata": {},
   "source": [
    "------------------------"
   ]
  },
  {
   "cell_type": "markdown",
   "id": "0b6342da-fde8-4fcb-9b45-cd62c14a8f82",
   "metadata": {},
   "source": [
    "------------------------------------"
   ]
  },
  {
   "cell_type": "markdown",
   "id": "0b40665c-1b8b-43a5-9d76-d8886f14ed61",
   "metadata": {},
   "source": [
    "## Questions"
   ]
  },
  {
   "cell_type": "markdown",
   "id": "c9359e42-d567-4da0-b7ed-822d70b8f196",
   "metadata": {},
   "source": [
    "**1. Say you wanted to estimate the physical store sales for a publicly traded retail chain in the U.S. You have access to third party foot traffic data for each store that was derived from anonymous GPS data collected from a panel of 10 million mobile phones. At a high level, how could you use this foot traffic dataset to predict the chain's in-store revenue?**\n",
    "\n",
    "Source: Ace the Data Science Interview, Question 11.1"
   ]
  },
  {
   "cell_type": "markdown",
   "id": "a7092da9-f24b-48b8-8480-5b8f25b73714",
   "metadata": {},
   "source": [
    "**2. Assume that you are designing a system whose purpose is to recommend what shows a user should watch on Amazon Prime Video. What data and techniques would you use?**\n",
    "\n",
    "Source: Ace the Data Science Interview, Question 11.2"
   ]
  },
  {
   "cell_type": "markdown",
   "id": "7169b704-43fb-4beb-bfaa-b8b93c8f0028",
   "metadata": {},
   "source": [
    "**3. Assume that you are modeling the yearly revenue of a new property being listed. What kinds of features would you use?**\n",
    "\n",
    "Source: Ace the Data Science Interview, Question 11.3"
   ]
  },
  {
   "cell_type": "markdown",
   "id": "30f805f6-1a7f-423a-bf5c-8412a253e142",
   "metadata": {},
   "source": [
    "**4. How would you build an algorithm to price products sold physically at Walmart stores?**\n",
    "\n",
    "Source: Ace the Data Science Interview, Question 11.4"
   ]
  },
  {
   "cell_type": "markdown",
   "id": "0868f5f3-7bdf-4370-ab11-dc4962fef2c9",
   "metadata": {},
   "source": [
    "**5. Assume that you want to help a major hotel chain analyze what people say about their brand on websites like Facebook, Twitter, and Reddit. Why might this be useful, and how would you go about doing it?**\n",
    "\n",
    "Source: Ace the Data Science Interview, Question 11.5"
   ]
  },
  {
   "cell_type": "markdown",
   "id": "56cd4a4f-c473-41cf-939d-5650c3e647f6",
   "metadata": {},
   "source": [
    "**6. Suppose you are to build out Facebook's friend recommendation product, also known as the \"people you may know\" feature. How would you go about doing this?**\n",
    "\n",
    "Source: Ace the Data Science Interview, Question 11.6"
   ]
  },
  {
   "cell_type": "markdown",
   "id": "a0839be3-30b1-495d-aca8-728df0848aeb",
   "metadata": {},
   "source": [
    "**7. Assume you are working on a loan approval model for small businesses. What metrics would you use to evaluate the model, and what trade-offs would be involved in the evaluation?**\n",
    "\n",
    "Source: Ace the Data Science Interview, Question 11.7"
   ]
  },
  {
   "cell_type": "markdown",
   "id": "f97cbcd0-9a88-49a5-819b-2e6918c19bd4",
   "metadata": {},
   "source": [
    "**8. How would you provide content recommendations for Instagram Explore?**\n",
    "\n",
    "Source: Ace the Data Science Interview, Question 11.8"
   ]
  }
 ],
 "metadata": {
  "kernelspec": {
   "display_name": "nl2vis",
   "language": "python",
   "name": "nl2vis"
  },
  "language_info": {
   "codemirror_mode": {
    "name": "ipython",
    "version": 3
   },
   "file_extension": ".py",
   "mimetype": "text/x-python",
   "name": "python",
   "nbconvert_exporter": "python",
   "pygments_lexer": "ipython3",
   "version": "3.10.12"
  }
 },
 "nbformat": 4,
 "nbformat_minor": 5
}
